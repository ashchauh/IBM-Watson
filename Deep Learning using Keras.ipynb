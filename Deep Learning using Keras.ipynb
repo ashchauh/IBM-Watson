{
    "nbformat_minor": 1, 
    "cells": [
        {
            "execution_count": 2, 
            "cell_type": "code", 
            "metadata": {}, 
            "outputs": [
                {
                    "output_type": "stream", 
                    "name": "stderr", 
                    "text": "Using TensorFlow backend.\n"
                }
            ], 
            "source": "from keras.datasets import mnist\nfrom keras.utils import to_categorical\nfrom keras.models import Sequential\nfrom keras.layers import Dense, Dropout"
        }, 
        {
            "execution_count": 3, 
            "cell_type": "code", 
            "metadata": {}, 
            "outputs": [], 
            "source": "batch_size=128\nnum_classes=10\nepochs=20"
        }, 
        {
            "execution_count": 4, 
            "cell_type": "code", 
            "metadata": {}, 
            "outputs": [], 
            "source": "(x_train, y_train), (x_test,y_test)=mnist.load_data()"
        }, 
        {
            "execution_count": 5, 
            "cell_type": "code", 
            "metadata": {}, 
            "outputs": [], 
            "source": "x_train=x_train.reshape(60000,784)"
        }, 
        {
            "execution_count": 6, 
            "cell_type": "code", 
            "metadata": {}, 
            "outputs": [], 
            "source": "x_test=x_test.reshape(10000,784)"
        }, 
        {
            "execution_count": 7, 
            "cell_type": "code", 
            "metadata": {}, 
            "outputs": [], 
            "source": "x_test=x_test.astype('float32')"
        }, 
        {
            "execution_count": 8, 
            "cell_type": "code", 
            "metadata": {}, 
            "outputs": [], 
            "source": "x_train=x_train.astype('float32')"
        }, 
        {
            "execution_count": 9, 
            "cell_type": "code", 
            "metadata": {}, 
            "outputs": [], 
            "source": "y_train=to_categorical(y_train, num_classes)"
        }, 
        {
            "execution_count": 10, 
            "cell_type": "code", 
            "metadata": {}, 
            "outputs": [], 
            "source": "y_test=to_categorical(y_test,num_classes)"
        }, 
        {
            "execution_count": 11, 
            "cell_type": "code", 
            "metadata": {}, 
            "outputs": [], 
            "source": "x_train/=255\nx_test/=255"
        }, 
        {
            "execution_count": 12, 
            "cell_type": "code", 
            "metadata": {}, 
            "outputs": [], 
            "source": "model= Sequential()"
        }, 
        {
            "execution_count": 16, 
            "cell_type": "code", 
            "metadata": {}, 
            "outputs": [], 
            "source": "model.add(Dense(512, activation='relu',input_shape=(784,)))"
        }, 
        {
            "execution_count": null, 
            "cell_type": "code", 
            "metadata": {}, 
            "outputs": [], 
            "source": "model.add(Dropout(0.2))"
        }, 
        {
            "execution_count": 18, 
            "cell_type": "code", 
            "metadata": {}, 
            "outputs": [], 
            "source": "model.add(Dense(512, activation='relu'))"
        }, 
        {
            "execution_count": 19, 
            "cell_type": "code", 
            "metadata": {}, 
            "outputs": [], 
            "source": "model.add(Dropout(0.2))"
        }, 
        {
            "execution_count": 22, 
            "cell_type": "code", 
            "metadata": {}, 
            "outputs": [], 
            "source": "model.add(Dense(num_classes,activation='softmax'))"
        }, 
        {
            "execution_count": 23, 
            "cell_type": "code", 
            "metadata": {}, 
            "outputs": [
                {
                    "output_type": "stream", 
                    "name": "stdout", 
                    "text": "_________________________________________________________________\nLayer (type)                 Output Shape              Param #   \n=================================================================\ndense_1 (Dense)              (None, 512)               401920    \n_________________________________________________________________\ndense_2 (Dense)              (None, 512)               262656    \n_________________________________________________________________\ndropout_1 (Dropout)          (None, 512)               0         \n_________________________________________________________________\ndense_3 (Dense)              (None, 10)                5130      \n=================================================================\nTotal params: 669,706\nTrainable params: 669,706\nNon-trainable params: 0\n_________________________________________________________________\n"
                }
            ], 
            "source": "model.summary()"
        }, 
        {
            "execution_count": 24, 
            "cell_type": "code", 
            "metadata": {}, 
            "outputs": [], 
            "source": "model.compile(loss='categorical_crossentropy',optimizer='sgd',metrics=['accuracy'])"
        }, 
        {
            "execution_count": 26, 
            "cell_type": "code", 
            "metadata": {}, 
            "outputs": [
                {
                    "output_type": "stream", 
                    "name": "stdout", 
                    "text": "Train on 60000 samples, validate on 10000 samples\nEpoch 1/10\n60000/60000 [==============================] - 6s - loss: 1.1255 - acc: 0.7297 - val_loss: 0.5271 - val_acc: 0.8764\nEpoch 2/10\n60000/60000 [==============================] - 6s - loss: 0.4794 - acc: 0.8708 - val_loss: 0.3690 - val_acc: 0.9015\nEpoch 3/10\n60000/60000 [==============================] - 6s - loss: 0.3818 - acc: 0.8923 - val_loss: 0.3175 - val_acc: 0.9112\nEpoch 4/10\n60000/60000 [==============================] - 6s - loss: 0.3374 - acc: 0.9041 - val_loss: 0.2902 - val_acc: 0.9176\nEpoch 5/10\n60000/60000 [==============================] - 6s - loss: 0.3096 - acc: 0.9113 - val_loss: 0.2684 - val_acc: 0.9238\nEpoch 6/10\n60000/60000 [==============================] - 6s - loss: 0.2886 - acc: 0.9176 - val_loss: 0.2518 - val_acc: 0.9289\nEpoch 7/10\n60000/60000 [==============================] - 6s - loss: 0.2709 - acc: 0.9219 - val_loss: 0.2388 - val_acc: 0.9319\nEpoch 8/10\n60000/60000 [==============================] - 6s - loss: 0.2548 - acc: 0.9265 - val_loss: 0.2274 - val_acc: 0.9356\nEpoch 9/10\n60000/60000 [==============================] - 6s - loss: 0.2434 - acc: 0.9300 - val_loss: 0.2179 - val_acc: 0.9370\nEpoch 10/10\n60000/60000 [==============================] - 6s - loss: 0.2315 - acc: 0.9334 - val_loss: 0.2079 - val_acc: 0.9415\n"
                }, 
                {
                    "execution_count": 26, 
                    "metadata": {}, 
                    "data": {
                        "text/plain": "<keras.callbacks.History at 0x7fe0d354f278>"
                    }, 
                    "output_type": "execute_result"
                }
            ], 
            "source": "model.fit(x_train,y_train, batch_size=batch_size, validation_data=(x_test,y_test))"
        }, 
        {
            "execution_count": 27, 
            "cell_type": "code", 
            "metadata": {}, 
            "outputs": [], 
            "source": "score=model.evaluate(x_test,y_test,verbose=0)"
        }, 
        {
            "execution_count": 28, 
            "cell_type": "code", 
            "metadata": {}, 
            "outputs": [
                {
                    "output_type": "stream", 
                    "name": "stdout", 
                    "text": "Test_loss 0.207925868788\n"
                }
            ], 
            "source": "print('Test_loss',score[0])"
        }, 
        {
            "execution_count": 29, 
            "cell_type": "code", 
            "metadata": {}, 
            "outputs": [
                {
                    "output_type": "stream", 
                    "name": "stdout", 
                    "text": "Test_accuracy 0.9415\n"
                }
            ], 
            "source": "print('Test_accuracy',score[1])"
        }, 
        {
            "execution_count": 35, 
            "cell_type": "code", 
            "metadata": {}, 
            "outputs": [], 
            "source": "model.compile(loss='categorical_crossentropy',optimizer='adam',metrics=['accuracy'])"
        }, 
        {
            "execution_count": 36, 
            "cell_type": "code", 
            "metadata": {}, 
            "outputs": [
                {
                    "output_type": "stream", 
                    "name": "stdout", 
                    "text": "Train on 60000 samples, validate on 10000 samples\nEpoch 1/10\n60000/60000 [==============================] - 7s - loss: 0.1578 - acc: 0.9521 - val_loss: 0.1025 - val_acc: 0.9671 0s - loss: 0.1585 - acc: 0.951\nEpoch 2/10\n60000/60000 [==============================] - 7s - loss: 0.0747 - acc: 0.9769 - val_loss: 0.0804 - val_acc: 0.97570.9 - ETA: 4s - loss: 0.077\nEpoch 3/10\n60000/60000 [==============================] - 7s - loss: 0.0505 - acc: 0.9841 - val_loss: 0.0629 - val_acc: 0.9795\nEpoch 4/10\n60000/60000 [==============================] - 7s - loss: 0.0356 - acc: 0.9882 - val_loss: 0.0679 - val_acc: 0.9787\nEpoch 5/10\n60000/60000 [==============================] - 8s - loss: 0.0278 - acc: 0.9905 - val_loss: 0.0766 - val_acc: 0.9784\nEpoch 6/10\n60000/60000 [==============================] - 7s - loss: 0.0226 - acc: 0.9925 - val_loss: 0.0735 - val_acc: 0.9817\nEpoch 7/10\n60000/60000 [==============================] - 7s - loss: 0.0181 - acc: 0.9937 - val_loss: 0.0759 - val_acc: 0.9795\nEpoch 8/10\n60000/60000 [==============================] - 7s - loss: 0.0212 - acc: 0.9929 - val_loss: 0.0719 - val_acc: 0.9811\nEpoch 9/10\n60000/60000 [==============================] - 7s - loss: 0.0186 - acc: 0.9939 - val_loss: 0.0701 - val_acc: 0.9815\nEpoch 10/10\n60000/60000 [==============================] - 8s - loss: 0.0091 - acc: 0.9970 - val_loss: 0.0698 - val_acc: 0.9838\n"
                }, 
                {
                    "execution_count": 36, 
                    "metadata": {}, 
                    "data": {
                        "text/plain": "<keras.callbacks.History at 0x7fe0c00c4940>"
                    }, 
                    "output_type": "execute_result"
                }
            ], 
            "source": "model.fit(x_train,y_train,batch_size=batch_size, validation_data=(x_test,y_test))"
        }, 
        {
            "execution_count": 37, 
            "cell_type": "code", 
            "metadata": {}, 
            "outputs": [], 
            "source": "score=model.evaluate(x_test,y_test,verbose=10)"
        }, 
        {
            "execution_count": 38, 
            "cell_type": "code", 
            "metadata": {}, 
            "outputs": [
                {
                    "output_type": "stream", 
                    "name": "stdout", 
                    "text": "Test Loss 0.0698119721737\n"
                }
            ], 
            "source": "print('Test Loss', score[0])"
        }, 
        {
            "execution_count": null, 
            "cell_type": "code", 
            "metadata": {}, 
            "outputs": [], 
            "source": "print(Test)"
        }
    ], 
    "metadata": {
        "kernelspec": {
            "display_name": "Python 3.5 with Spark 2.1", 
            "name": "python3-spark21", 
            "language": "python"
        }, 
        "language_info": {
            "mimetype": "text/x-python", 
            "nbconvert_exporter": "python", 
            "version": "3.5.4", 
            "name": "python", 
            "file_extension": ".py", 
            "pygments_lexer": "ipython3", 
            "codemirror_mode": {
                "version": 3, 
                "name": "ipython"
            }
        }
    }, 
    "nbformat": 4
}