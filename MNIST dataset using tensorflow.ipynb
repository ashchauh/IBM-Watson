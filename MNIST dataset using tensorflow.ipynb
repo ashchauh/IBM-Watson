{
    "nbformat_minor": 1, 
    "cells": [
        {
            "source": "from tensorflow.examples.tutorials.mnist import input_data", 
            "cell_type": "code", 
            "metadata": {}, 
            "outputs": [], 
            "execution_count": 1
        }, 
        {
            "source": "mnist=input_data.read_data_sets(\"MNIST_data/\",one_hot=True)", 
            "cell_type": "code", 
            "metadata": {}, 
            "outputs": [
                {
                    "output_type": "stream", 
                    "name": "stdout", 
                    "text": "Successfully downloaded train-images-idx3-ubyte.gz 9912422 bytes.\nExtracting MNIST_data/train-images-idx3-ubyte.gz\nSuccessfully downloaded train-labels-idx1-ubyte.gz 28881 bytes.\nExtracting MNIST_data/train-labels-idx1-ubyte.gz\nSuccessfully downloaded t10k-images-idx3-ubyte.gz 1648877 bytes.\nExtracting MNIST_data/t10k-images-idx3-ubyte.gz\nSuccessfully downloaded t10k-labels-idx1-ubyte.gz 4542 bytes.\nExtracting MNIST_data/t10k-labels-idx1-ubyte.gz\n"
                }
            ], 
            "execution_count": 2
        }, 
        {
            "source": "import tensorflow as tf", 
            "cell_type": "code", 
            "metadata": {}, 
            "outputs": [], 
            "execution_count": 3
        }, 
        {
            "source": "%matplotlib inline\nimport matplotlib.pyplot as plt\nbatch_xs,batch_ys=mnist.train.next_batch(1)\nX=batch_xs\nX=X.reshape(28,28)\nplt.gray()\nprint (batch_ys)\nplt.imshow(X)", 
            "cell_type": "code", 
            "metadata": {}, 
            "outputs": [
                {
                    "output_type": "stream", 
                    "name": "stdout", 
                    "text": "[[ 0.  0.  0.  0.  0.  0.  0.  0.  1.  0.]]\n"
                }, 
                {
                    "output_type": "execute_result", 
                    "data": {
                        "text/plain": "<matplotlib.image.AxesImage at 0x7f00ef704eb8>"
                    }, 
                    "execution_count": 10, 
                    "metadata": {}
                }, 
                {
                    "output_type": "display_data", 
                    "data": {
                        "image/png": "[encoded data removed]", 
                        "text/plain": "<matplotlib.figure.Figure at 0x7f00ef739c88>"
                    }, 
                    "metadata": {}
                }
            ], 
            "execution_count": 10
        }, 
        {
            "source": "x=tf.placeholder(tf.float32,[None,784])\nW=tf.Variable(tf.zeros([784,10]))\nb=tf.Variable(tf.zeros([10]))\ny=tf.nn.softmax(tf.matmul(x,W)+b)\ny_=tf.placeholder(tf.float32,[None,10])", 
            "cell_type": "code", 
            "metadata": {}, 
            "outputs": [], 
            "execution_count": 13
        }, 
        {
            "source": "cross_entropy= tf.reduce_mean(-tf.reduce_sum(y_*tf.log(y),reduction_indices=[1]))", 
            "cell_type": "code", 
            "metadata": {}, 
            "outputs": [], 
            "execution_count": 15
        }, 
        {
            "source": "train_step=tf.train.GradientDescentOptimizer(0.5).minimize(cross_entropy)\nsess=tf.InteractiveSession()\ntf.global_variables_initializer().run()", 
            "cell_type": "code", 
            "metadata": {}, 
            "outputs": [], 
            "execution_count": 16
        }, 
        {
            "source": "for _ in range(1000):\n    batch_xs,batch_ys=mnist.train.next_batch(100)\n    sess.run(train_step,feed_dict={x: batch_xs,y_: batch_ys})", 
            "cell_type": "code", 
            "metadata": {}, 
            "outputs": [], 
            "execution_count": 21
        }, 
        {
            "source": "correct_prediction=tf.equal(tf.argmax(y,1),tf.argmax(y_,1))", 
            "cell_type": "code", 
            "metadata": {}, 
            "outputs": [], 
            "execution_count": 22
        }, 
        {
            "source": "accuracy=tf.reduce_mean(tf.cast(correct_prediction, tf.float32))", 
            "cell_type": "code", 
            "metadata": {}, 
            "outputs": [], 
            "execution_count": 23
        }, 
        {
            "source": "print(sess.run(accuracy, feed_dict={x: mnist.test.images,y_ : mnist.test.labels}))", 
            "cell_type": "code", 
            "metadata": {}, 
            "outputs": [
                {
                    "output_type": "stream", 
                    "name": "stdout", 
                    "text": "0.9165\n"
                }
            ], 
            "execution_count": 28
        }, 
        {
            "source": "#implementing Mnist on keras", 
            "cell_type": "code", 
            "metadata": {}, 
            "outputs": [], 
            "execution_count": 30
        }, 
        {
            "source": "from keras.models import Sequential\nfrom keras.layers import Dense\nfrom keras.optimizers import SGD", 
            "cell_type": "code", 
            "metadata": {}, 
            "outputs": [], 
            "execution_count": 42
        }, 
        {
            "source": "from keras.datasets import mnist\n(x_train, y_train), (x_test,y_test)=mnist.load_data()", 
            "cell_type": "code", 
            "metadata": {}, 
            "outputs": [], 
            "execution_count": 43
        }, 
        {
            "source": "model=Sequential()", 
            "cell_type": "code", 
            "metadata": {}, 
            "outputs": [], 
            "execution_count": 44
        }, 
        {
            "source": "model.add(Dense(256, activation='sigmoid', input_shape=(784,)))", 
            "cell_type": "code", 
            "metadata": {}, 
            "outputs": [], 
            "execution_count": 45
        }, 
        {
            "source": "model.add(Dense(10, activation='softmax'))", 
            "cell_type": "code", 
            "metadata": {}, 
            "outputs": [], 
            "execution_count": 46
        }, 
        {
            "source": "model.compile(loss='categorical_crossentropy', optimizer=SGD(), metrics=['accuracy'] )", 
            "cell_type": "code", 
            "metadata": {}, 
            "outputs": [], 
            "execution_count": 47
        }, 
        {
            "source": "", 
            "cell_type": "code", 
            "metadata": {}, 
            "outputs": [], 
            "execution_count": null
        }, 
        {
            "source": "", 
            "cell_type": "code", 
            "metadata": {}, 
            "outputs": [], 
            "execution_count": null
        }
    ], 
    "metadata": {
        "kernelspec": {
            "display_name": "Python 3.5 with Spark 2.1", 
            "name": "python3-spark21", 
            "language": "python"
        }, 
        "language_info": {
            "mimetype": "text/x-python", 
            "nbconvert_exporter": "python", 
            "version": "3.5.4", 
            "name": "python", 
            "pygments_lexer": "ipython3", 
            "file_extension": ".py", 
            "codemirror_mode": {
                "version": 3, 
                "name": "ipython"
            }
        }
    }, 
    "nbformat": 4
}