{
    "nbformat_minor": 1, 
    "cells": [
        {
            "execution_count": null, 
            "cell_type": "code", 
            "metadata": {}, 
            "outputs": [], 
            "source": "import flask"
        }, 
        {
            "execution_count": null, 
            "cell_type": "code", 
            "metadata": {}, 
            "outputs": [], 
            "source": "#$ pip install flask gevent requests pillow"
        }, 
        {
            "execution_count": null, 
            "cell_type": "code", 
            "metadata": {}, 
            "outputs": [], 
            "source": "from keras.applications import ResNet50\nfrom keras.preprocessing.image import img_to_array\nfrom keras.applications import imagenet_utils\nfrom PIL import Image\nimport numpy as np\nimport flask\nimport io"
        }, 
        {
            "execution_count": null, 
            "cell_type": "code", 
            "metadata": {}, 
            "outputs": [], 
            "source": "app = flask.Flask(__name__)\nmodel = None"
        }, 
        {
            "execution_count": null, 
            "cell_type": "code", 
            "metadata": {}, 
            "outputs": [], 
            "source": "def load_model():\n    # load the pre-trained Keras model (here we are using a model\n    # pre-trained on ImageNet and provided by Keras, but you can\n    # substitute in your own networks just as easily)\n    global model\n    model = ResNet50(weights=\"imagenet\")"
        }, 
        {
            "execution_count": null, 
            "cell_type": "code", 
            "metadata": {}, 
            "outputs": [], 
            "source": "def prepare_image(image, target):\n    # if the image mode is not RGB, convert it\n    if image.mode != \"RGB\":\n        image = image.convert(\"RGB\")\n\n    # resize the input image and preprocess it\n    image = image.resize(target)\n    image = img_to_array(image)\n    image = np.expand_dims(image, axis=0)\n    image = imagenet_utils.preprocess_input(image)\n\n    # return the processed image\n    return image"
        }, 
        {
            "execution_count": null, 
            "cell_type": "code", 
            "metadata": {}, 
            "outputs": [], 
            "source": "@app.route(\"/predict\", methods=[\"POST\"])\ndef predict():\n    # initialize the data dictionary that will be returned from the\n    # view\n    data = {\"success\": False}\n\n    # ensure an image was properly uploaded to our endpoint\n    if flask.request.method == \"POST\":\n        if flask.request.files.get(\"image\"):\n            # read the image in PIL format\n            image = flask.request.files[\"image\"].read()\n            image = Image.open(io.BytesIO(image))\n\n            # preprocess the image and prepare it for classification\n            image = prepare_image(image, target=(224, 224))\n\n            # classify the input image and then initialize the list\n            # of predictions to return to the client\n            preds = model.predict(image)\n            results = imagenet_utils.decode_predictions(preds)\n            data[\"predictions\"] = []\n\n            # loop over the results and add them to the list of\n            # returned predictions\n            for (imagenetID, label, prob) in results[0]:\n                r = {\"label\": label, \"probability\": float(prob)}\n                data[\"predictions\"].append(r)\n\n            # indicate that the request was a success\n            data[\"success\"] = True\n\n    # return the data dictionary as a JSON response\n    return flask.jsonify(data)"
        }, 
        {
            "execution_count": null, 
            "cell_type": "code", 
            "metadata": {}, 
            "outputs": [], 
            "source": "# if this is the main thread of execution first load the model and\n# then start the server\n#if __name__ == \"__main__\":\n    print((\"* Loading Keras model and Flask starting server...\"\n        \"please wait until server has fully started\"))\n    load_model()\n    app.run()"
        }, 
        {
            "execution_count": null, 
            "cell_type": "code", 
            "metadata": {}, 
            "outputs": [], 
            "source": "$ curl -X POST -F image=@dog.jpg 'http://localhost:5000/predict'\n{\n  \"predictions\": [\n    {\n      \"label\": \"beagle\",\n      \"probability\": 0.9901360869407654\n    },\n    {\n      \"label\": \"Walker_hound\",\n      \"probability\": 0.002396771451458335\n    },\n    {\n      \"label\": \"pot\",\n      \"probability\": 0.0013951235450804234\n    },\n    {\n      \"label\": \"Brittany_spaniel\",\n      \"probability\": 0.001283277408219874\n    },\n    {\n      \"label\": \"bluetick\",\n      \"probability\": 0.0010894243605434895\n    }\n  ],\n  \"success\": true\n}"
        }, 
        {
            "execution_count": null, 
            "cell_type": "code", 
            "metadata": {}, 
            "outputs": [], 
            "source": ""
        }
    ], 
    "metadata": {
        "kernelspec": {
            "display_name": "Python 3.5", 
            "name": "python3", 
            "language": "python"
        }, 
        "language_info": {
            "mimetype": "text/x-python", 
            "nbconvert_exporter": "python", 
            "version": "3.5.4", 
            "name": "python", 
            "file_extension": ".py", 
            "pygments_lexer": "ipython3", 
            "codemirror_mode": {
                "version": 3, 
                "name": "ipython"
            }
        }
    }, 
    "nbformat": 4
}