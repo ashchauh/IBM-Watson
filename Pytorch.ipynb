{
    "nbformat_minor": 1, 
    "cells": [
        {
            "execution_count": 1, 
            "cell_type": "code", 
            "metadata": {}, 
            "outputs": [
                {
                    "output_type": "stream", 
                    "name": "stdout", 
                    "text": "Fetching package metadata .............\nSolving package specifications: .\n\nPackage plan for installation in environment /opt/conda/envs/DSX-Python35:\n\nThe following NEW packages will be INSTALLED:\n\n    cudatoolkit: 8.0-3                                     \n    cudnn:       7.0.5-cuda8.0_0                           \n    pytorch:     0.3.1-py35_cuda8.0.61_cudnn7.0.5_2 pytorch\n    pytorch-cpu: 0.3.1-py35_cpu_2                   pytorch\n    torchvision: 0.2.0-py35heaa392f_1               pytorch\n\ncudatoolkit-8. 100% |################################| Time: 0:00:04  76.02 MB/s\ncudnn-7.0.5-cu 100% |################################| Time: 0:00:07  36.37 MB/sime: 0:00:03  41.35 MB/sime: 0:00:06  36.71 MB/s\npytorch-0.3.1- 100% |################################| Time: 0:00:09  22.69 MB/s#########             | Time: 0:00:06  19.17 MB/sime: 0:00:08  21.54 MB/s\npytorch-cpu-0. 100% |################################| Time: 0:00:01  29.98 MB/sime: 0:00:00  12.39 MB/sime: 0:00:00  31.60 MB/s\ntorchvision-0. 100% |################################| Time: 0:00:00  49.97 MB/s\n"
                }
            ], 
            "source": "!conda install pytorch-cpu torchvision -c pytorch\n"
        }, 
        {
            "execution_count": 8, 
            "cell_type": "code", 
            "metadata": {}, 
            "outputs": [], 
            "source": "import torch"
        }, 
        {
            "execution_count": 9, 
            "cell_type": "code", 
            "metadata": {}, 
            "outputs": [], 
            "source": "import torch.autograd as autograd\nimport torch.nn as nn\nimport torch.optim as optim"
        }, 
        {
            "execution_count": 39, 
            "cell_type": "code", 
            "metadata": {}, 
            "outputs": [
                {
                    "execution_count": 39, 
                    "metadata": {}, 
                    "data": {
                        "text/plain": "<torch._C.Generator at 0x2b8673ef2a30>"
                    }, 
                    "output_type": "execute_result"
                }
            ], 
            "source": "torch.manual_seed(123)"
        }, 
        {
            "execution_count": 40, 
            "cell_type": "code", 
            "metadata": {}, 
            "outputs": [], 
            "source": "m_tensor = torch.randn((6, 3, 28, 28))"
        }, 
        {
            "execution_count": 41, 
            "cell_type": "code", 
            "metadata": {}, 
            "outputs": [], 
            "source": "y=m_tensor.size"
        }, 
        {
            "execution_count": 42, 
            "cell_type": "code", 
            "metadata": {}, 
            "outputs": [
                {
                    "execution_count": 42, 
                    "metadata": {}, 
                    "data": {
                        "text/plain": "<function FloatTensor.size>"
                    }, 
                    "output_type": "execute_result"
                }
            ], 
            "source": "y"
        }, 
        {
            "execution_count": 43, 
            "cell_type": "code", 
            "metadata": {}, 
            "outputs": [], 
            "source": "data=torch.randn(64000,3,28,28)"
        }, 
        {
            "execution_count": 44, 
            "cell_type": "code", 
            "metadata": {}, 
            "outputs": [], 
            "source": "data_reshaped=data.view(32,-1,3,28,28)"
        }, 
        {
            "execution_count": 45, 
            "cell_type": "code", 
            "metadata": {}, 
            "outputs": [
                {
                    "execution_count": 45, 
                    "metadata": {}, 
                    "data": {
                        "text/plain": "torch.Size([32, 2000, 3, 28, 28])"
                    }, 
                    "output_type": "execute_result"
                }
            ], 
            "source": "data_reshaped.shape"
        }, 
        {
            "execution_count": 46, 
            "cell_type": "code", 
            "metadata": {}, 
            "outputs": [], 
            "source": "a=autograd.Variable(torch.Tensor([1,2,3]), requires_grad=True)"
        }, 
        {
            "execution_count": 47, 
            "cell_type": "code", 
            "metadata": {}, 
            "outputs": [
                {
                    "output_type": "stream", 
                    "name": "stdout", 
                    "text": "Variable containing:\n 1\n 2\n 3\n[torch.FloatTensor of size 3]\n\n"
                }
            ], 
            "source": "print(a)"
        }, 
        {
            "execution_count": 19, 
            "cell_type": "code", 
            "metadata": {}, 
            "outputs": [], 
            "source": "b=autograd.Variable(torch.Tensor([4,5,6]),requires_grad=True)"
        }, 
        {
            "execution_count": 20, 
            "cell_type": "code", 
            "metadata": {}, 
            "outputs": [
                {
                    "output_type": "stream", 
                    "name": "stdout", 
                    "text": "Variable containing:\n 4\n 5\n 6\n[torch.FloatTensor of size 3]\n\n"
                }
            ], 
            "source": "print(b)"
        }, 
        {
            "execution_count": 21, 
            "cell_type": "code", 
            "metadata": {}, 
            "outputs": [
                {
                    "execution_count": 21, 
                    "metadata": {}, 
                    "data": {
                        "text/plain": "torch.Size([3])"
                    }, 
                    "output_type": "execute_result"
                }
            ], 
            "source": "b.shape"
        }, 
        {
            "execution_count": 22, 
            "cell_type": "code", 
            "metadata": {}, 
            "outputs": [], 
            "source": "c=a+b"
        }, 
        {
            "execution_count": 23, 
            "cell_type": "code", 
            "metadata": {}, 
            "outputs": [
                {
                    "output_type": "stream", 
                    "name": "stdout", 
                    "text": "\n 5\n 7\n 9\n[torch.FloatTensor of size 3]\n\n"
                }
            ], 
            "source": "print(c.data)"
        }, 
        {
            "execution_count": 24, 
            "cell_type": "code", 
            "metadata": {}, 
            "outputs": [], 
            "source": "operation=c.grad_fn"
        }, 
        {
            "execution_count": 25, 
            "cell_type": "code", 
            "metadata": {}, 
            "outputs": [
                {
                    "output_type": "stream", 
                    "name": "stdout", 
                    "text": "<AddBackward1 object at 0x2b86969eae80>\n"
                }
            ], 
            "source": "print(operation)"
        }, 
        {
            "execution_count": 26, 
            "cell_type": "code", 
            "metadata": {}, 
            "outputs": [], 
            "source": "s=c.sum()"
        }, 
        {
            "execution_count": 27, 
            "cell_type": "code", 
            "metadata": {}, 
            "outputs": [
                {
                    "output_type": "stream", 
                    "name": "stdout", 
                    "text": "<SumBackward0 object at 0x2b86969ea780>\n"
                }
            ], 
            "source": "print(s.grad_fn)"
        }, 
        {
            "execution_count": 28, 
            "cell_type": "code", 
            "metadata": {}, 
            "outputs": [], 
            "source": "s.backward(retain_graph=True)"
        }, 
        {
            "execution_count": 29, 
            "cell_type": "code", 
            "metadata": {}, 
            "outputs": [
                {
                    "output_type": "stream", 
                    "name": "stdout", 
                    "text": "Variable containing:\n 1\n 2\n 3\n[torch.FloatTensor of size 3]\n\nVariable containing:\n 1\n 1\n 1\n[torch.FloatTensor of size 3]\n\nVariable containing:\n 1\n 1\n 1\n[torch.FloatTensor of size 3]\n\n"
                }
            ], 
            "source": "print(a)\nprint(a.grad)\nprint(b.grad)"
        }, 
        {
            "execution_count": 30, 
            "cell_type": "code", 
            "metadata": {}, 
            "outputs": [], 
            "source": "# The backward propagation function will update the variables and add the previous one with the current one"
        }, 
        {
            "execution_count": 31, 
            "cell_type": "code", 
            "metadata": {}, 
            "outputs": [], 
            "source": "x=torch.randn((2,2))\ny=torch.randn((2,2))"
        }, 
        {
            "execution_count": 32, 
            "cell_type": "code", 
            "metadata": {}, 
            "outputs": [
                {
                    "output_type": "stream", 
                    "name": "stdout", 
                    "text": "\n 2.5372  1.4931\n 1.3005 -1.6018\n[torch.FloatTensor of size 2x2]\n\n"
                }
            ], 
            "source": "z=x+y\nprint(z)"
        }, 
        {
            "execution_count": 33, 
            "cell_type": "code", 
            "metadata": {}, 
            "outputs": [], 
            "source": "var_x=autograd.Variable(x,requires_grad=True)\nvar_y=autograd.Variable(y,requires_grad=True)"
        }, 
        {
            "execution_count": 34, 
            "cell_type": "code", 
            "metadata": {}, 
            "outputs": [
                {
                    "output_type": "stream", 
                    "name": "stdout", 
                    "text": "Variable containing:\n 2.5372  1.4931\n 1.3005 -1.6018\n[torch.FloatTensor of size 2x2]\n\n<AddBackward1 object at 0x2b8696a00588>\n"
                }
            ], 
            "source": "var_z=var_x+var_y\nprint(var_z)\nprint(var_z.grad_fn)"
        }, 
        {
            "execution_count": 35, 
            "cell_type": "code", 
            "metadata": {}, 
            "outputs": [], 
            "source": "var_z_data=var_z.data"
        }, 
        {
            "execution_count": 36, 
            "cell_type": "code", 
            "metadata": {}, 
            "outputs": [], 
            "source": "new_var_z=autograd.Variable(var_z_data)"
        }, 
        {
            "execution_count": 48, 
            "cell_type": "code", 
            "metadata": {}, 
            "outputs": [
                {
                    "output_type": "stream", 
                    "name": "stdout", 
                    "text": "None\n"
                }
            ], 
            "source": "print(new_var_z.grad_fn)"
        }, 
        {
            "execution_count": null, 
            "cell_type": "code", 
            "metadata": {}, 
            "outputs": [], 
            "source": "new_var_z.backward(retain_graph=True)"
        }, 
        {
            "execution_count": 49, 
            "cell_type": "code", 
            "metadata": {}, 
            "outputs": [], 
            "source": "if torch.cuda.is_available():\n    a=torch.LongTensor(10).fill_(3).cuda()\n    print(type(a))\n    b=a.cpu()"
        }, 
        {
            "execution_count": null, 
            "cell_type": "code", 
            "metadata": {}, 
            "outputs": [], 
            "source": ""
        }
    ], 
    "metadata": {
        "kernelspec": {
            "display_name": "Python 3.5", 
            "name": "python3", 
            "language": "python"
        }, 
        "language_info": {
            "mimetype": "text/x-python", 
            "nbconvert_exporter": "python", 
            "version": "3.5.4", 
            "name": "python", 
            "file_extension": ".py", 
            "pygments_lexer": "ipython3", 
            "codemirror_mode": {
                "version": 3, 
                "name": "ipython"
            }
        }
    }, 
    "nbformat": 4
}